{
 "cells": [
  {
   "cell_type": "markdown",
   "id": "00def900",
   "metadata": {},
   "source": [
    "# Character-Level Text Generation Using RNN\n",
    "\n",
    "**Objective:**\n",
    "The goal of this project is to build a character-level Recurrent Neural Network (RNN) capable of generating text in the style of William Shakespeare. The model is trained on a dataset of Shakespeare's works, learning to predict the next character in a sequence, and can be used to generate new, coherent text sequences.\n",
    "\n",
    "**Dataset:**\n",
    "The dataset consists of the complete works of Shakespeare, obtained from a public domain source. It is loaded and processed into a format suitable for training a character-level RNN.\n",
    "\n",
    "**Methodology:**\n",
    "1. **Data Preprocessing:**\n",
    "   - The text is vectorized by mapping each unique character to an integer index.\n",
    "   - Input sequences of fixed length (e.g., 100 characters) are created, with each sequence paired with the corresponding target sequence (i.e., the next character in the text).\n",
    "\n",
    "2. **Model Architecture:**\n",
    "   - An embedding layer is used to convert character indices into dense vectors of a fixed size.\n",
    "   - A GRU (Gated Recurrent Unit) layer with 1024 units is employed to capture temporal dependencies in the sequence data.\n",
    "   - The output layer is a Dense layer that outputs logits corresponding to the probability distribution over all possible characters.\n",
    "\n",
    "3. **Training:**\n",
    "   - The model is trained using categorical cross-entropy loss, with the Adam optimizer.\n",
    "   - Checkpoints are saved after each epoch to allow for the resumption of training and model evaluation at various stages.\n",
    "\n",
    "4. **Text Generation:**\n",
    "   - After training, the model is used to generate text by predicting the next character in a sequence given an initial input string.\n",
    "   - The generation process involves sampling from the probability distribution of the next character, iteratively producing a text sequence.\n",
    "\n",
    "**Results:**\n",
    "The trained model can generate text that mimics the style of Shakespeare, producing coherent and contextually relevant passages. The quality of the generated text improves with more epochs of training, though it may still contain some non-sensical or repetitive phrases typical of character-level models.\n",
    "\n",
    "**Conclusion:**\n",
    "This project demonstrates the effectiveness of RNNs in sequence modeling tasks such as text generation. While the generated text captures the essence of Shakespeare's style, further improvements could involve using more advanced architectures like LSTM or Transformer models and experimenting with hyperparameters or training techniques to enhance the coherence and creativity of the generated text.\n"
   ]
  },
  {
   "cell_type": "markdown",
   "id": "76916c09",
   "metadata": {},
   "source": [
    "### GRU-Based RNN Architecture for Character-Level Text Generation\n",
    "\n",
    "This image represents the architecture of a Recurrent Neural Network (RNN) using Gated Recurrent Units (GRUs) for character-level text generation. Here's a breakdown of the components:\n",
    "\n",
    "1. **Input Characters (`Input Char`)**:\n",
    "   - The model receives sequences of characters as input. Each character is represented by an index in a vocabulary.\n",
    "\n",
    "2. **Embedding Layer**:\n",
    "   - The input characters are passed through an embedding layer. This layer converts the character indices into dense vectors of a fixed size (`EMBEDDING_SIZE`). The embeddings capture semantic meaning and are learnable parameters of the model.\n",
    "\n",
    "3. **GRU Layers**:\n",
    "   - The embeddings are then passed through a series of GRU layers. GRUs are a type of RNN that are designed to handle sequential data and can maintain information across time steps. Each GRU cell takes the current embedding and the previous hidden state (`State Before`) to produce a new hidden state (`GRU Output`) and update the state (`State After`).\n",
    "   - The GRU outputs are sequences of hidden states, each corresponding to a time step in the input sequence.\n",
    "\n",
    "4. **Dense Layer**:\n",
    "   - The outputs from the GRU layers are then passed through a dense layer. This layer is fully connected and transforms the GRU outputs into logits. The logits are raw prediction scores for each character in the vocabulary.\n",
    "\n",
    "5. **Logits**:\n",
    "   - Finally, the logits are used to predict the next character in the sequence. The model will generate a probability distribution over all possible characters, from which the next character is sampled or selected.\n",
    "\n",
    "6. **State Before/After**:\n",
    "   - The state before represents the hidden state that is passed into the GRU cell, while the state after represents the updated hidden state after processing the input character. This state carries information from one time step to the next, allowing the model to maintain context.\n",
    "\n"
   ]
  },
  {
   "cell_type": "code",
   "execution_count": 5,
   "id": "04074f34",
   "metadata": {},
   "outputs": [
    {
     "name": "stdout",
     "output_type": "stream",
     "text": [
      "Length of text: 1115394 characters\n",
      "First Citizen:\n",
      "Before we proceed any further, hear me speak.\n",
      "\n",
      "All:\n",
      "Speak, speak.\n",
      "\n",
      "First Citizen:\n",
      "You are all resolved rather to die than to famish?\n",
      "\n",
      "All:\n",
      "Resolved. resolved.\n",
      "\n",
      "First Citizen:\n",
      "First, you know Caius Marcius is chief enemy to the people.\n",
      "\n"
     ]
    },
    {
     "data": {
      "text/html": [
       "<pre style=\"white-space:pre;overflow-x:auto;line-height:normal;font-family:Menlo,'DejaVu Sans Mono',consolas,'Courier New',monospace\"><span style=\"font-weight: bold\">Model: \"sequential_1\"</span>\n",
       "</pre>\n"
      ],
      "text/plain": [
       "\u001b[1mModel: \"sequential_1\"\u001b[0m\n"
      ]
     },
     "metadata": {},
     "output_type": "display_data"
    },
    {
     "data": {
      "text/html": [
       "<pre style=\"white-space:pre;overflow-x:auto;line-height:normal;font-family:Menlo,'DejaVu Sans Mono',consolas,'Courier New',monospace\">┏━━━━━━━━━━━━━━━━━━━━━━━━━━━━━━━━━┳━━━━━━━━━━━━━━━━━━━━━━━━┳━━━━━━━━━━━━━━━┓\n",
       "┃<span style=\"font-weight: bold\"> Layer (type)                    </span>┃<span style=\"font-weight: bold\"> Output Shape           </span>┃<span style=\"font-weight: bold\">       Param # </span>┃\n",
       "┡━━━━━━━━━━━━━━━━━━━━━━━━━━━━━━━━━╇━━━━━━━━━━━━━━━━━━━━━━━━╇━━━━━━━━━━━━━━━┩\n",
       "│ embedding_4 (<span style=\"color: #0087ff; text-decoration-color: #0087ff\">Embedding</span>)         │ (<span style=\"color: #00d7ff; text-decoration-color: #00d7ff\">None</span>, <span style=\"color: #00d7ff; text-decoration-color: #00d7ff\">None</span>, <span style=\"color: #00af00; text-decoration-color: #00af00\">256</span>)      │        <span style=\"color: #00af00; text-decoration-color: #00af00\">16,640</span> │\n",
       "├─────────────────────────────────┼────────────────────────┼───────────────┤\n",
       "│ gru_2 (<span style=\"color: #0087ff; text-decoration-color: #0087ff\">GRU</span>)                     │ (<span style=\"color: #00d7ff; text-decoration-color: #00d7ff\">None</span>, <span style=\"color: #00d7ff; text-decoration-color: #00d7ff\">None</span>, <span style=\"color: #00af00; text-decoration-color: #00af00\">1024</span>)     │     <span style=\"color: #00af00; text-decoration-color: #00af00\">3,938,304</span> │\n",
       "├─────────────────────────────────┼────────────────────────┼───────────────┤\n",
       "│ dense_1 (<span style=\"color: #0087ff; text-decoration-color: #0087ff\">Dense</span>)                 │ (<span style=\"color: #00d7ff; text-decoration-color: #00d7ff\">None</span>, <span style=\"color: #00d7ff; text-decoration-color: #00d7ff\">None</span>, <span style=\"color: #00af00; text-decoration-color: #00af00\">65</span>)       │        <span style=\"color: #00af00; text-decoration-color: #00af00\">66,625</span> │\n",
       "└─────────────────────────────────┴────────────────────────┴───────────────┘\n",
       "</pre>\n"
      ],
      "text/plain": [
       "┏━━━━━━━━━━━━━━━━━━━━━━━━━━━━━━━━━┳━━━━━━━━━━━━━━━━━━━━━━━━┳━━━━━━━━━━━━━━━┓\n",
       "┃\u001b[1m \u001b[0m\u001b[1mLayer (type)                   \u001b[0m\u001b[1m \u001b[0m┃\u001b[1m \u001b[0m\u001b[1mOutput Shape          \u001b[0m\u001b[1m \u001b[0m┃\u001b[1m \u001b[0m\u001b[1m      Param #\u001b[0m\u001b[1m \u001b[0m┃\n",
       "┡━━━━━━━━━━━━━━━━━━━━━━━━━━━━━━━━━╇━━━━━━━━━━━━━━━━━━━━━━━━╇━━━━━━━━━━━━━━━┩\n",
       "│ embedding_4 (\u001b[38;5;33mEmbedding\u001b[0m)         │ (\u001b[38;5;45mNone\u001b[0m, \u001b[38;5;45mNone\u001b[0m, \u001b[38;5;34m256\u001b[0m)      │        \u001b[38;5;34m16,640\u001b[0m │\n",
       "├─────────────────────────────────┼────────────────────────┼───────────────┤\n",
       "│ gru_2 (\u001b[38;5;33mGRU\u001b[0m)                     │ (\u001b[38;5;45mNone\u001b[0m, \u001b[38;5;45mNone\u001b[0m, \u001b[38;5;34m1024\u001b[0m)     │     \u001b[38;5;34m3,938,304\u001b[0m │\n",
       "├─────────────────────────────────┼────────────────────────┼───────────────┤\n",
       "│ dense_1 (\u001b[38;5;33mDense\u001b[0m)                 │ (\u001b[38;5;45mNone\u001b[0m, \u001b[38;5;45mNone\u001b[0m, \u001b[38;5;34m65\u001b[0m)       │        \u001b[38;5;34m66,625\u001b[0m │\n",
       "└─────────────────────────────────┴────────────────────────┴───────────────┘\n"
      ]
     },
     "metadata": {},
     "output_type": "display_data"
    },
    {
     "data": {
      "text/html": [
       "<pre style=\"white-space:pre;overflow-x:auto;line-height:normal;font-family:Menlo,'DejaVu Sans Mono',consolas,'Courier New',monospace\"><span style=\"font-weight: bold\"> Total params: </span><span style=\"color: #00af00; text-decoration-color: #00af00\">4,021,569</span> (15.34 MB)\n",
       "</pre>\n"
      ],
      "text/plain": [
       "\u001b[1m Total params: \u001b[0m\u001b[38;5;34m4,021,569\u001b[0m (15.34 MB)\n"
      ]
     },
     "metadata": {},
     "output_type": "display_data"
    },
    {
     "data": {
      "text/html": [
       "<pre style=\"white-space:pre;overflow-x:auto;line-height:normal;font-family:Menlo,'DejaVu Sans Mono',consolas,'Courier New',monospace\"><span style=\"font-weight: bold\"> Trainable params: </span><span style=\"color: #00af00; text-decoration-color: #00af00\">4,021,569</span> (15.34 MB)\n",
       "</pre>\n"
      ],
      "text/plain": [
       "\u001b[1m Trainable params: \u001b[0m\u001b[38;5;34m4,021,569\u001b[0m (15.34 MB)\n"
      ]
     },
     "metadata": {},
     "output_type": "display_data"
    },
    {
     "data": {
      "text/html": [
       "<pre style=\"white-space:pre;overflow-x:auto;line-height:normal;font-family:Menlo,'DejaVu Sans Mono',consolas,'Courier New',monospace\"><span style=\"font-weight: bold\"> Non-trainable params: </span><span style=\"color: #00af00; text-decoration-color: #00af00\">0</span> (0.00 B)\n",
       "</pre>\n"
      ],
      "text/plain": [
       "\u001b[1m Non-trainable params: \u001b[0m\u001b[38;5;34m0\u001b[0m (0.00 B)\n"
      ]
     },
     "metadata": {},
     "output_type": "display_data"
    },
    {
     "name": "stdout",
     "output_type": "stream",
     "text": [
      "(64, 100, 65) # (batch_size, sequence_length, vocab_size)\n"
     ]
    },
    {
     "name": "stderr",
     "output_type": "stream",
     "text": [
      "2024-09-03 12:41:39.449504: W tensorflow/core/framework/local_rendezvous.cc:404] Local rendezvous is aborting with status: OUT_OF_RANGE: End of sequence\n"
     ]
    }
   ],
   "source": [
    "import tensorflow as tf\n",
    "import numpy as np\n",
    "import os\n",
    "import time\n",
    "\n",
    "# Download the Shakespeare dataset\n",
    "path_to_file = tf.keras.utils.get_file('shakespeare.txt', 'https://storage.googleapis.com/download.tensorflow.org/data/shakespeare.txt')\n",
    "\n",
    "# Read the dataset\n",
    "text = open(path_to_file, 'rb').read().decode(encoding='utf-8')\n",
    "print(f'Length of text: {len(text)} characters')\n",
    "\n",
    "# View the first 250 characters in the text\n",
    "print(text[:250])\n",
    "\n",
    "# Create character index\n",
    "vocab = sorted(set(text))\n",
    "char2idx = {u:i for i, u in enumerate(vocab)}\n",
    "idx2char = np.array(vocab)\n",
    "\n",
    "# Text vectorization\n",
    "text_as_int = np.array([char2idx[c] for c in text])\n",
    "\n",
    "# Set training parameters\n",
    "seq_length = 100\n",
    "examples_per_epoch = len(text) // seq_length\n",
    "\n",
    "# Create input and output samples\n",
    "char_dataset = tf.data.Dataset.from_tensor_slices(text_as_int)\n",
    "sequences = char_dataset.batch(seq_length+1, drop_remainder=True)\n",
    "\n",
    "def split_input_target(chunk):\n",
    "    input_text = chunk[:-1]\n",
    "    target_text = chunk[1:]\n",
    "    return input_text, target_text\n",
    "\n",
    "dataset = sequences.map(split_input_target)\n",
    "\n",
    "# Batching datasets\n",
    "BATCH_SIZE = 64\n",
    "BUFFER_SIZE = 10000\n",
    "dataset = dataset.shuffle(BUFFER_SIZE).batch(BATCH_SIZE, drop_remainder=True)\n",
    "\n",
    "\n",
    "vocab_size = len(vocab)\n",
    "embedding_dim = 256\n",
    "rnn_units = 1024\n",
    "\n",
    "def build_model(vocab_size, embedding_dim, rnn_units, batch_size):\n",
    "    model = tf.keras.Sequential([\n",
    "        tf.keras.layers.Embedding(vocab_size, embedding_dim, input_shape=(None,)),\n",
    "        tf.keras.layers.GRU(rnn_units, return_sequences=True, recurrent_initializer='glorot_uniform'), \n",
    "        tf.keras.layers.Dense(vocab_size)\n",
    "    ])\n",
    "    return model\n",
    "\n",
    "\n",
    "model = build_model(\n",
    "    vocab_size=len(vocab),\n",
    "    embedding_dim=embedding_dim,\n",
    "    rnn_units=rnn_units,\n",
    "    batch_size=BATCH_SIZE\n",
    ")\n",
    "\n",
    "# Define the loss function\n",
    "def loss(labels, logits):\n",
    "    return tf.keras.losses.sparse_categorical_crossentropy(labels, logits, from_logits=True)\n",
    "\n",
    "model.compile(optimizer='adam', loss=loss)\n",
    "\n",
    "\n",
    "model.summary()\n",
    "\n",
    "# Check the shape of the input sample\n",
    "for input_example_batch, target_example_batch in dataset.take(1):\n",
    "    example_batch_predictions = model(input_example_batch)\n",
    "    print(example_batch_predictions.shape, \"# (batch_size, sequence_length, vocab_size)\")\n",
    "\n",
    "# Configure training checkpoints\n",
    "checkpoint_dir = './training_checkpoints'\n",
    "checkpoint_prefix = os.path.join(checkpoint_dir, \"ckpt_{epoch}.weights.h5\")  # Add the end of .weights.h5\n",
    "checkpoint_callback = tf.keras.callbacks.ModelCheckpoint(\n",
    "    filepath=checkpoint_prefix,\n",
    "    save_weights_only=True\n",
    ")\n"
   ]
  },
  {
   "cell_type": "code",
   "execution_count": 6,
   "id": "4b6b40f4",
   "metadata": {},
   "outputs": [
    {
     "name": "stdout",
     "output_type": "stream",
     "text": [
      "Epoch 1/10\n",
      "\u001b[1m172/172\u001b[0m \u001b[32m━━━━━━━━━━━━━━━━━━━━\u001b[0m\u001b[37m\u001b[0m \u001b[1m119s\u001b[0m 685ms/step - loss: 3.0782\n",
      "Epoch 2/10\n",
      "\u001b[1m172/172\u001b[0m \u001b[32m━━━━━━━━━━━━━━━━━━━━\u001b[0m\u001b[37m\u001b[0m \u001b[1m121s\u001b[0m 701ms/step - loss: 1.9123\n",
      "Epoch 3/10\n",
      "\u001b[1m172/172\u001b[0m \u001b[32m━━━━━━━━━━━━━━━━━━━━\u001b[0m\u001b[37m\u001b[0m \u001b[1m122s\u001b[0m 706ms/step - loss: 1.6313\n",
      "Epoch 4/10\n",
      "\u001b[1m172/172\u001b[0m \u001b[32m━━━━━━━━━━━━━━━━━━━━\u001b[0m\u001b[37m\u001b[0m \u001b[1m127s\u001b[0m 733ms/step - loss: 1.4800\n",
      "Epoch 5/10\n",
      "\u001b[1m172/172\u001b[0m \u001b[32m━━━━━━━━━━━━━━━━━━━━\u001b[0m\u001b[37m\u001b[0m \u001b[1m129s\u001b[0m 746ms/step - loss: 1.3934\n",
      "Epoch 6/10\n",
      "\u001b[1m172/172\u001b[0m \u001b[32m━━━━━━━━━━━━━━━━━━━━\u001b[0m\u001b[37m\u001b[0m \u001b[1m129s\u001b[0m 747ms/step - loss: 1.3233\n",
      "Epoch 7/10\n",
      "\u001b[1m172/172\u001b[0m \u001b[32m━━━━━━━━━━━━━━━━━━━━\u001b[0m\u001b[37m\u001b[0m \u001b[1m128s\u001b[0m 742ms/step - loss: 1.2796\n",
      "Epoch 8/10\n",
      "\u001b[1m172/172\u001b[0m \u001b[32m━━━━━━━━━━━━━━━━━━━━\u001b[0m\u001b[37m\u001b[0m \u001b[1m127s\u001b[0m 730ms/step - loss: 1.2328\n",
      "Epoch 9/10\n",
      "\u001b[1m172/172\u001b[0m \u001b[32m━━━━━━━━━━━━━━━━━━━━\u001b[0m\u001b[37m\u001b[0m \u001b[1m126s\u001b[0m 730ms/step - loss: 1.1872\n",
      "Epoch 10/10\n",
      "\u001b[1m172/172\u001b[0m \u001b[32m━━━━━━━━━━━━━━━━━━━━\u001b[0m\u001b[37m\u001b[0m \u001b[1m129s\u001b[0m 745ms/step - loss: 1.1451\n"
     ]
    },
    {
     "data": {
      "image/png": "[encoded data removed]",
      "text/plain": [
       "<Figure size 640x480 with 1 Axes>"
      ]
     },
     "metadata": {},
     "output_type": "display_data"
    }
   ],
   "source": [
    "import matplotlib.pyplot as plt\n",
    "\n",
    "# Train the model and record the losses\n",
    "EPOCHS = 10\n",
    "history = model.fit(dataset, epochs=EPOCHS, callbacks=[checkpoint_callback])\n",
    "\n",
    "# Visualize training losses\n",
    "plt.plot(history.history['loss'])\n",
    "plt.xlabel('Epochs')\n",
    "plt.ylabel('Loss')\n",
    "plt.title('Training Loss')\n",
    "plt.show()\n"
   ]
  },
  {
   "cell_type": "code",
   "execution_count": 15,
   "id": "d2555331",
   "metadata": {},
   "outputs": [
    {
     "name": "stdout",
     "output_type": "stream",
     "text": [
      "['ckpt_7.weights.h5', 'ckpt_2.weights.h5', 'ckpt_8.weights.h5', 'ckpt_5.weights.h5', 'ckpt_3.weights.h5', 'ckpt_6.weights.h5', 'ckpt_1.weights.h5', 'ckpt_10.weights.h5', 'ckpt_9.weights.h5', 'ckpt_4.weights.h5']\n"
     ]
    }
   ],
   "source": [
    "\n",
    "print(os.listdir(checkpoint_dir))\n"
   ]
  },
  {
   "cell_type": "code",
   "execution_count": 14,
   "id": "e3770269",
   "metadata": {},
   "outputs": [
    {
     "name": "stdout",
     "output_type": "stream",
     "text": [
      "Shakespear than maill amathyomer the THere mowitheve d gusth Lewh mowan as s blil aver lmy igl brdyou hineron: thavires yon kelarstofune.\n",
      "Mar ouryonyspotryo\n",
      "APdinus iomy me tior MI he I iexout id d cugatheere-prinLE\n",
      "UPDy,\n",
      "K:\n",
      "Hapr iver:\n",
      "Tige br wano te?\n",
      "HOR3\n",
      "ALAn'\n",
      "TIO themy whinew, ke.\n",
      "NG.\n",
      "F g boro:\n",
      "SChamo hallod mishe o hy chergho blevene futher y s toungopounevitreas he warat oo smofuriny:\n",
      "ARE thesoutas br IChathin dengesiure? E owit pry:\n",
      "CKeno,\n",
      "CAWe he yow f.\n",
      "AUT apes, as, bo coug aligr hed Yodukee Ore, s aiswak.\n",
      "Tor:\n",
      "ERIOWhour'd athe\n",
      "BAmoulldille t\n",
      "Burs s lerts Be\n",
      "Ty, p, ande RUpinfot R3 or:\n",
      "Be hapualy thal y sh wo I ore?\n",
      "ANINRIt, yo t me:\n",
      "Wh ghincoureprt booreranel winorat d y,\n",
      "G untiblin ufabt!\n",
      "Houk't urdasomyountor arar.\n",
      "TBRCAtht ng mer horshe I w'e\n",
      "Anchokn al$alod memetw, ce brailay wad ilI I Lughesc.\n",
      "RO:\n",
      "D\n",
      "\n",
      "An tacove blds w, hthyomeve wiopllbonod, ten wis tia:\n",
      "TZallut bes, hing s mared RCK: fowTo g:\n",
      "A ORDO uthouca dechape abel this ave g t I.\n",
      "TUS:\n",
      "Anbemedourealin:\n",
      "LA:\n",
      "RISce taly.\n",
      "Fod, wa\n"
     ]
    }
   ],
   "source": [
    "import tensorflow as tf\n",
    "import numpy as np\n",
    "import os\n",
    "import time\n",
    "from IPython.display import clear_output, display\n",
    "\n",
    "# Text generation functions\n",
    "def generate_text(model, start_string):\n",
    "    num_generate = 1000\n",
    "\n",
    "    input_eval = [char2idx[s] for s in start_string]\n",
    "    input_eval = tf.expand_dims(input_eval, 0)\n",
    "\n",
    "    text_generated = []\n",
    "\n",
    "    temperature = 1.0\n",
    "\n",
    "\n",
    "\n",
    "    for i in range(num_generate):\n",
    "        predictions = model(input_eval)\n",
    "        predictions = tf.squeeze(predictions, 0)\n",
    "\n",
    "        predictions = predictions / temperature\n",
    "        predicted_id = tf.random.categorical(predictions, num_samples=1)[-1, 0].numpy()\n",
    "\n",
    "        input_eval = tf.expand_dims([predicted_id], 0)\n",
    "\n",
    "        text_generated.append(idx2char[predicted_id])\n",
    "\n",
    "    \n",
    "        display(start_string + ''.join(text_generated))\n",
    "        clear_output(wait=True)\n",
    "        time.sleep(0.05)\n",
    "\n",
    "    return (start_string + ''.join(text_generated))\n",
    "\n",
    "\n",
    "model = build_model(vocab_size, embedding_dim, rnn_units, batch_size=1)\n",
    "\n",
    "# Select the latest checkpoint file path\n",
    "checkpoint_path = os.path.join(checkpoint_dir, 'ckpt_10.weights.h5')\n",
    "\n",
    "# Load checkpoint weights\n",
    "model.load_weights(checkpoint_path)\n",
    "\n",
    "# Generate and dynamically display text\n",
    "generated_text = generate_text(model, start_string=u\"Shakespear\")\n",
    "print(generated_text)\n"
   ]
  },
  {
   "cell_type": "markdown",
   "id": "6dce161a",
   "metadata": {},
   "source": [
    "### Analysis of the Generated Text\n",
    "\n",
    "\n",
    "1. **Presence of English-like Words**:\n",
    "   - The generated text contains fragments and words that resemble English, such as \"Shakespear,\" \"THere,\" \"Mar,\" and \"IChathin.\" This indicates that the model has learned some patterns from the training data and is able to produce character sequences that vaguely resemble English words.\n",
    "   - However, these words often appear incomplete or nonsensical, suggesting that the model struggles to fully capture the correct spelling and structure of words.\n",
    "\n",
    "2. **Randomness and Lack of Coherence**:\n",
    "   - The text lacks coherence and meaningful content. The sequence of characters and words does not form any meaningful sentences or phrases, and there are many instances of random, unstructured character combinations like \"thavires yon kelarstofune\" and \"SChamo hallod mishe.\"\n",
    "   - This randomness is partly due to the model's attempt to balance creativity and coherence, but it seems the model is leaning too much towards randomness in this case.\n",
    "\n",
    "3. **Repetition of Character Combinations**:\n",
    "   - There are instances where certain character combinations, like \"iomy,\" \"kelar,\" and \"warat,\" are repeated or appear similar in structure. This might indicate that the model has learned some recurring patterns from the data but is overfitting to those patterns without understanding their context or meaning.\n",
    "\n",
    "4. **Symbols and Numbers**:\n",
    "   - The presence of symbols like \":\", \"3\", and capital letters in seemingly random places suggests that the model is still learning where and how to appropriately use punctuation and capitalization. It also indicates that the model might be incorporating rare or less frequent patterns that it encountered during training.\n",
    "\n",
    "5. **Structural Issues**:\n",
    "   - The text generated does not follow any recognizable structure of prose or verse, which is particularly noticeable given that Shakespeare's works often follow strict metrical patterns (like iambic pentameter). The generated text lacks this rhythmic structure, indicating that the model has not yet learned these complex linguistic features.\n",
    "\n",
    "### Reasons for These Results:\n",
    "\n",
    "1. **Model Complexity**:\n",
    "   - The GRU-based model, while effective at capturing some sequential patterns, may not be complex enough to capture the intricacies of English grammar, syntax, and poetic structure. More advanced models, such as those based on LSTM or Transformer architectures, might perform better.\n",
    "\n",
    "2. **Training Duration**:\n",
    "   - The model may not have been trained for long enough or on a sufficiently large dataset. More extensive training with more data could help the model learn better representations of the language.\n",
    "\n",
    "3. **Temperature Setting**:\n",
    "   - The temperature setting was 1.0, which allows for high variability in predictions. Lowering the temperature might result in more coherent and predictable outputs, though at the risk of reducing creativity.\n",
    "\n",
    "### Recommendations:\n",
    "\n",
    "1. **Further Training**:\n",
    "   - Consider training the model for additional epochs to allow it more time to learn from the data. This could improve the coherence and quality of the generated text.\n",
    "\n",
    "2. **Experiment with Temperature**:\n",
    "   - Adjust the temperature parameter to lower values (e.g., 0.7 or 0.5) during text generation. This might help produce more coherent and meaningful text by reducing randomness.\n",
    "\n",
    "3. **Model Architecture**:\n",
    "   - Experiment with more complex architectures like LSTM or Transformer models, which may better capture the long-range dependencies and sophisticated structures present in Shakespeare's and Poe's writings.\n",
    "\n",
    "4. **Fine-tuning**:\n",
    "   - Consider fine-tuning the model on specific subsets of data (e.g., only sonnets or only prose) to see if it can better capture and replicate those specific styles.\n"
   ]
  },
  {
   "cell_type": "markdown",
   "id": "c3f3149d",
   "metadata": {},
   "source": [
    "\n",
    "### Advantages of GPT-2: \n",
    "\n",
    "- **Better Context Handling**: GPT-2 handles longer-range dependencies in text better than LSTMs.\n",
    "- **Advanced Sampling Techniques**: GPT-2 allows for sophisticated sampling techniques like top-k and top-p, which improve the diversity and quality of generated text.\n",
    "- **State-of-the-Art Performance**: GPT-2 is a state-of-the-art model for natural language generation, providing better fluency and coherence in the generated text.\n",
    "\n",
    "This approach should give you a significant improvement over the previous LSTM-based model in terms of the quality and coherence of the generated text. Let me know if you need further customization or explanations!"
   ]
  },
  {
   "cell_type": "code",
   "execution_count": 32,
   "id": "7cfcaba0",
   "metadata": {},
   "outputs": [
    {
     "name": "stderr",
     "output_type": "stream",
     "text": [
      "/Users/yuyao/anaconda3/lib/python3.11/site-packages/huggingface_hub/file_download.py:1150: FutureWarning: `resume_download` is deprecated and will be removed in version 1.0.0. Downloads always resume when possible. If you want to force a new download, use `force_download=True`.\n",
      "  warnings.warn(\n",
      "The attention mask and the pad token id were not set. As a consequence, you may observe unexpected behavior. Please pass your input's `attention_mask` to obtain reliable results.\n",
      "Setting `pad_token_id` to `eos_token_id`:50256 for open-end generation.\n"
     ]
    },
    {
     "name": "stdout",
     "output_type": "stream",
     "text": [
      "Shakespeare is a great writer, but he has a very limited background in literary scholarship. He was a graduate of the University of Chicago, where he was a graduate student of the English Language Arts Department. He is also a member of the Board of Trustees of the National Academy of Sciences.\n",
      "\n",
      "In his recent book The Dark Side of the Mind, he writes about his experiences as a teenager and his attempt to escape the darkness of his past. He writes: \"I was a little too young to have grown up in a world where there was a lot of darkness. I was young enough to feel ashamed of myself for not knowing the truth. I also felt ashamed for having had the privilege of having met people I really didn't know. I don't know what I will have to go through. I will have to find out what I can do to help others.\"\n",
      "\n",
      "His story is told in his own words.\n",
      "\n",
      "\"I had a little bit of an early awakening when\n"
     ]
    }
   ],
   "source": [
    "import torch\n",
    "from transformers import GPT2LMHeadModel, GPT2Tokenizer\n",
    "\n",
    "# Load pre-trained GPT-2 model and tokenizer\n",
    "model_name = \"gpt2\"  # You can also use \"gpt2-medium\", \"gpt2-large\", or \"gpt2-xl\" for larger models\n",
    "tokenizer = GPT2Tokenizer.from_pretrained(model_name)\n",
    "model = GPT2LMHeadModel.from_pretrained(model_name)\n",
    "\n",
    "# Set the model to evaluation mode\n",
    "model.eval()\n",
    "\n",
    "def generate_text_gpt2(start_string, max_length=100, temperature=1.0, num_return_sequences=1):\n",
    "    input_ids = tokenizer.encode(start_string, return_tensors='pt')\n",
    "\n",
    "    # Generate text\n",
    "    output = model.generate(\n",
    "        input_ids,\n",
    "        max_length=max_length,\n",
    "        temperature=temperature,\n",
    "        num_return_sequences=num_return_sequences,\n",
    "        do_sample=True,  # Enable sampling to generate diverse results\n",
    "        top_k=50,  # Use top-k sampling\n",
    "        top_p=0.95  # Use top-p (nucleus) sampling\n",
    "    )\n",
    "\n",
    "    generated_texts = [tokenizer.decode(out, skip_special_tokens=True) for out in output]\n",
    "    return generated_texts\n",
    "\n",
    "# Example usage\n",
    "start_string = \"Shakespeare\"\n",
    "generated_text = generate_text_gpt2(start_string, max_length=200, temperature=0.7, num_return_sequences=1)\n",
    "print(generated_text[0])\n"
   ]
  },
  {
   "cell_type": "markdown",
   "id": "04642f04",
   "metadata": {},
   "source": [
    "The generated text demonstrates the capabilities and limitations of the GPT-2 model in generating coherent and contextually relevant text. H\n",
    "\n",
    "\n",
    "### Strengths:\n",
    "1. **Fluency and Coherence**:\n",
    "   - The text is quite fluent and maintains grammatical correctness throughout. The sentences flow logically from one to the next, which is a strong point of the GPT-2 model.\n",
    "   \n",
    "2. **Contextual Continuity**:\n",
    "   - The model successfully picks up on the cue provided by \"Shakespeare\" and attempts to generate text that might fit in a discussion about a person named Shakespeare. It introduces biographical elements and even a reference to an academic background, which, while not historically accurate, makes sense in the context of the generated narrative.\n",
    "\n",
    "3. **Creative Expansion**:\n",
    "   - GPT-2 expands on the prompt by creating a fictional scenario where \"Shakespeare\" is portrayed as a graduate student at the University of Chicago and a member of the Board of Trustees of the National Academy of Sciences. This demonstrates the model’s ability to create plausible-sounding but entirely fictional content.\n",
    "\n",
    "### Limitations:\n",
    "1. **Factual Inaccuracy**:\n",
    "   - The generated text contains several factual inaccuracies. For instance, it suggests that Shakespeare was a graduate of the University of Chicago and a member of the Board of Trustees of the National Academy of Sciences—neither of which is true. This reflects the model’s lack of grounding in historical facts, as it primarily focuses on generating coherent text rather than accurate information.\n",
    "\n",
    "2. **Inconsistent Tone**:\n",
    "   - The tone shifts slightly when the model introduces the idea of \"The Dark Side of the Mind\" and discusses personal experiences, which doesn't align with the historical Shakespeare. This indicates that the model is blending various contexts that it has learned from, rather than sticking to a consistent tone or theme.\n",
    "\n",
    "3. **Repetitive Ideas**:\n",
    "   - There’s a degree of repetition in the ideas presented, particularly around themes of shame and darkness. This can happen with GPT-2 when it tries to extend a theme but doesn't have enough context to introduce new ideas.\n",
    "\n",
    "4. **Lack of Depth**:\n",
    "   - While the model generates text that is surface-level coherent, it lacks depth and fails to provide meaningful or insightful commentary on Shakespeare or his works. The text generated is generic and does not delve into literary analysis or critical thought, which might be expected in a scholarly discussion about Shakespeare.\n",
    "\n",
    "### Conclusion:\n",
    "\n",
    "The generated text showcases GPT-2's strength in creating fluent and contextually plausible text, but it also highlights its limitations in terms of factual accuracy and depth. The model is effective at producing coherent sentences and maintaining a narrative flow, but it can easily generate content that, while readable, might be misleading or incorrect when it comes to real-world facts. This output demonstrates that while GPT-2 is a powerful tool for generating creative content, its use in contexts requiring factual precision or in-depth analysis should be carefully managed."
   ]
  },
  {
   "cell_type": "code",
   "execution_count": null,
   "id": "ce540cea",
   "metadata": {},
   "outputs": [],
   "source": []
  }
 ],
 "metadata": {
  "kernelspec": {
   "display_name": "Python 3 (ipykernel)",
   "language": "python",
   "name": "python3"
  },
  "language_info": {
   "codemirror_mode": {
    "name": "ipython",
    "version": 3
   },
   "file_extension": ".py",
   "mimetype": "text/x-python",
   "name": "python",
   "nbconvert_exporter": "python",
   "pygments_lexer": "ipython3",
   "version": "3.11.8"
  }
 },
 "nbformat": 4,
 "nbformat_minor": 5
}
